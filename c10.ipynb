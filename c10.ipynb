{
 "cells": [
  {
   "cell_type": "markdown",
   "metadata": {},
   "source": [
    "This is a example CNN(Convolutional Neural Network) I have been messing with in pytorch"
   ]
  },
  {
   "cell_type": "code",
   "execution_count": 1,
   "metadata": {},
   "outputs": [
    {
     "name": "stdout",
     "output_type": "stream",
     "text": [
      "2.0.1\n"
     ]
    }
   ],
   "source": [
    "import numpy\n",
    "print(numpy.__version__)"
   ]
  },
  {
   "cell_type": "markdown",
   "metadata": {},
   "source": [
    "Imports"
   ]
  },
  {
   "cell_type": "code",
   "execution_count": 2,
   "metadata": {},
   "outputs": [],
   "source": [
    "import torch\n",
    "import torch.nn as nn\n",
    "import torch.optim as optim\n",
    "import torchvision\n",
    "import torchvision.transforms as transforms\n",
    "import torchvision.datasets as datasets\n",
    "import torchvision.transforms as transforms\n",
    "import matplotlib.pyplot as plt\n",
    "import random\n",
    "import numpy as np"
   ]
  },
  {
   "cell_type": "markdown",
   "metadata": {},
   "source": [
    "I am using the cifat10 dataset of 10 images types for computer vision"
   ]
  },
  {
   "cell_type": "code",
   "execution_count": 3,
   "metadata": {},
   "outputs": [],
   "source": [
    "transform = transforms.ToTensor()\n",
    "cifar10_train = datasets.CIFAR10(root='./data', train=True, download=True,transform=transform)\n",
    "cifar10_test = datasets.CIFAR10(root='./data', train=False, download=True,transform=transform)"
   ]
  },
  {
   "cell_type": "code",
   "execution_count": 4,
   "metadata": {},
   "outputs": [
    {
     "data": {
      "text/plain": [
       "Dataset CIFAR10\n",
       "    Number of datapoints: 10000\n",
       "    Root location: ./data\n",
       "    Split: Test\n",
       "    StandardTransform\n",
       "Transform: ToTensor()"
      ]
     },
     "execution_count": 4,
     "metadata": {},
     "output_type": "execute_result"
    }
   ],
   "source": [
    "cifar10_test"
   ]
  },
  {
   "cell_type": "markdown",
   "metadata": {},
   "source": [
    "I can import data to numpy and graph it using matplotlib"
   ]
  },
  {
   "cell_type": "code",
   "execution_count": 20,
   "metadata": {},
   "outputs": [],
   "source": [
    "def imageShower(x):\n",
    "    randomImageInt = random.randint(0,9999)\n",
    "    for x in range(x):\n",
    "        image, label = cifar10_train[x+randomImageInt]\n",
    "        imagenp = image.numpy()\n",
    "        imagenp=np.transpose(imagenp , (1, 2, 0))\n",
    "        plt.imshow(imagenp)\n",
    "        plt.axis(\"off\")\n",
    "        plt.show()"
   ]
  },
  {
   "cell_type": "code",
   "execution_count": 21,
   "metadata": {},
   "outputs": [],
   "source": [
    "###############################\n",
    "\n",
    "# how many images shown in notebook\n",
    "imagesShown=0\n",
    "\n",
    "#################################\n",
    "imageShower(imagesShown)"
   ]
  },
  {
   "cell_type": "markdown",
   "metadata": {},
   "source": [
    "Load the dataset"
   ]
  },
  {
   "cell_type": "code",
   "execution_count": 6,
   "metadata": {},
   "outputs": [],
   "source": [
    "trainloader = torch.utils.data.DataLoader(cifar10_train , batch_size=128, shuffle=True)\n",
    "testloader = torch.utils.data.DataLoader(cifar10_test, batch_size=128, shuffle=False)"
   ]
  },
  {
   "cell_type": "markdown",
   "metadata": {},
   "source": [
    "And These are all the class names"
   ]
  },
  {
   "cell_type": "code",
   "execution_count": 7,
   "metadata": {},
   "outputs": [
    {
     "data": {
      "text/plain": [
       "['airplane',\n",
       " 'automobile',\n",
       " 'bird',\n",
       " 'cat',\n",
       " 'deer',\n",
       " 'dog',\n",
       " 'frog',\n",
       " 'horse',\n",
       " 'ship',\n",
       " 'truck']"
      ]
     },
     "execution_count": 7,
     "metadata": {},
     "output_type": "execute_result"
    }
   ],
   "source": [
    "classNames=cifar10_test.classes\n",
    "classNames"
   ]
  },
  {
   "cell_type": "markdown",
   "metadata": {},
   "source": [
    "The data has 3 color channel and the image is 32x32 pixels "
   ]
  },
  {
   "cell_type": "code",
   "execution_count": 8,
   "metadata": {},
   "outputs": [
    {
     "data": {
      "text/plain": [
       "torch.Size([3, 32, 32])"
      ]
     },
     "execution_count": 8,
     "metadata": {},
     "output_type": "execute_result"
    }
   ],
   "source": [
    "a,b = cifar10_train[0]\n",
    "a.shape"
   ]
  },
  {
   "cell_type": "markdown",
   "metadata": {},
   "source": [
    "I defined a block of expanding channels for my CNN for simplicity"
   ]
  },
  {
   "cell_type": "code",
   "execution_count": 9,
   "metadata": {},
   "outputs": [],
   "source": [
    "class LayerBlock(nn.Module):\n",
    "    def __init__(self,inChannels,step):\n",
    "        super(LayerBlock, self).__init__()\n",
    "        half=int(inChannels+ step/2)\n",
    "        self.conv = nn.Conv2d(inChannels, half, kernel_size=3, stride=1, padding=1)\n",
    "        self.relu = nn.ReLU()\n",
    "        self.batch = nn.BatchNorm2d(half)\n",
    "        self.conv2 = nn.Conv2d(half, inChannels+(step), kernel_size=3, stride=1, padding=1)\n",
    "        self.relu2 = nn.ReLU()\n",
    "\n",
    "\n",
    "    def forward(self, x):\n",
    "        x=self.conv(x)\n",
    "        x=self.relu(x)\n",
    "        x=self.batch(x)\n",
    "        x = self.conv2(x)\n",
    "        x = self.relu2(x)\n",
    "        return x"
   ]
  },
  {
   "cell_type": "markdown",
   "metadata": {},
   "source": [
    "And make the network 6 blocks long"
   ]
  },
  {
   "cell_type": "code",
   "execution_count": 10,
   "metadata": {},
   "outputs": [],
   "source": [
    "def channelPrinter(inn,out):\n",
    "    print(\"in channels => \", inn, \" and  out channels => \",out,\"\\n---------------------------------------------\")\n",
    "\n",
    "class nNetwork(nn.Module):\n",
    "    def __init__(self):\n",
    "        super(nNetwork, self).__init__()\n",
    "\n",
    "        inChannels=3\n",
    "        step=50\n",
    "\n",
    "\n",
    "        channelPrinter(inChannels,inChannels+step)\n",
    "        self.blockOne = LayerBlock(inChannels,step)\n",
    "        inChannels=inChannels+step\n",
    "        \n",
    "\n",
    "        channelPrinter(inChannels,inChannels+step)\n",
    "        self.blockTwo = LayerBlock(inChannels,step)\n",
    "        inChannels=inChannels+step\n",
    "\n",
    "        self.pool = nn.MaxPool2d(kernel_size=2, stride=2, padding=0)\n",
    "\n",
    "        channelPrinter(inChannels,inChannels+step)\n",
    "        self.blockThree = LayerBlock(inChannels,step)\n",
    "        inChannels=inChannels+step\n",
    "      \n",
    "\n",
    "        channelPrinter(inChannels,inChannels+step)\n",
    "        self.blockFour = LayerBlock(inChannels,step)\n",
    "        inChannels=inChannels+step\n",
    "        \n",
    "        \n",
    "        self.pool2 = nn.MaxPool2d(kernel_size=2, stride=2, padding=0)\n",
    "        \n",
    "        channelPrinter(inChannels,inChannels+step)\n",
    "        self.blockFive = LayerBlock(inChannels,step)\n",
    "        inChannels=inChannels+step\n",
    "\n",
    "        channelPrinter(inChannels,inChannels+step)\n",
    "        self.blockSix = LayerBlock(inChannels,step)\n",
    "        inChannels=inChannels+step\n",
    "        \n",
    "\n",
    "        self.pool3 = nn.AdaptiveAvgPool2d((8, 8))\n",
    "        self.dropout = nn.Dropout(p=0.5)\n",
    "        self.linearLayer=nn.Linear(inChannels*8*8,256)\n",
    "        self.relu = nn.ReLU()\n",
    "        self.batch1d=nn.BatchNorm1d(256)\n",
    "        self.linearLayer2=nn.Linear(256,10)\n",
    "        self.batch1d2 = nn.BatchNorm1d(10)\n",
    "        \n",
    "\n",
    "\n",
    "    def forward(self, x):\n",
    "        x=self.blockOne(x)\n",
    "        x=self.blockTwo(x)\n",
    "        x = self.pool(x)\n",
    "        x = self.blockThree(x)\n",
    "        x = self.blockFour(x)\n",
    "        x = self.pool2(x)\n",
    "        x=self.blockFive(x)\n",
    "        x=self.blockSix(x)\n",
    "        x = self.pool3(x)\n",
    "        x = x.view(x.size(0), -1)\n",
    "        x = self.dropout(x)\n",
    "        x = self.linearLayer(x)\n",
    "        x = self.relu(x)\n",
    "        x = self.batch1d(x)\n",
    "        x=self.linearLayer2(x)\n",
    "        x=self.batch1d2(x)\n",
    "        return x"
   ]
  },
  {
   "cell_type": "markdown",
   "metadata": {},
   "source": [
    "You can see how the neural network gets larger"
   ]
  },
  {
   "cell_type": "code",
   "execution_count": 11,
   "metadata": {},
   "outputs": [
    {
     "name": "stdout",
     "output_type": "stream",
     "text": [
      "in channels =>  3  and  out channels =>  53 \n",
      "---------------------------------------------\n",
      "in channels =>  53  and  out channels =>  103 \n",
      "---------------------------------------------\n",
      "in channels =>  103  and  out channels =>  153 \n",
      "---------------------------------------------\n",
      "in channels =>  153  and  out channels =>  203 \n",
      "---------------------------------------------\n",
      "in channels =>  203  and  out channels =>  253 \n",
      "---------------------------------------------\n",
      "in channels =>  253  and  out channels =>  303 \n",
      "---------------------------------------------\n"
     ]
    }
   ],
   "source": [
    "device = torch.device('cuda' if torch.cuda.is_available() else 'cpu')\n",
    "model = nNetwork().to(device)"
   ]
  },
  {
   "cell_type": "markdown",
   "metadata": {},
   "source": [
    "Define a criterion and optimizer"
   ]
  },
  {
   "cell_type": "code",
   "execution_count": 12,
   "metadata": {},
   "outputs": [],
   "source": [
    "criterion = nn.CrossEntropyLoss()\n",
    "optimizer = torch.optim.SGD(model.parameters(), lr=0.005, momentum=0.9, weight_decay=5e-4)"
   ]
  },
  {
   "cell_type": "markdown",
   "metadata": {},
   "source": [
    "Train the model "
   ]
  },
  {
   "cell_type": "code",
   "execution_count": 16,
   "metadata": {},
   "outputs": [],
   "source": [
    "def modelTrainer(trainloader,criterion,model,optimizer):\n",
    "    trainingSteps = len(trainloader)\n",
    "    for epoch in range(5):\n",
    "        print(\"epoch: \",epoch)\n",
    "        for i, (images, labels) in enumerate(trainloader):\n",
    "            images = images.to(device)\n",
    "            labels = labels.to(device)\n",
    "            modelOutput=model(images)\n",
    "            loss = criterion(modelOutput, labels)\n",
    "            optimizer.zero_grad()\n",
    "            loss.backward()\n",
    "            optimizer.step()\n"
   ]
  },
  {
   "cell_type": "markdown",
   "metadata": {},
   "source": [
    "And test the model"
   ]
  },
  {
   "cell_type": "code",
   "execution_count": 17,
   "metadata": {},
   "outputs": [],
   "source": [
    "def modelTester(testloader,model):\n",
    "    with torch.no_grad():\n",
    "        correct = 0\n",
    "        total = 0\n",
    "        for images, labels in testloader:\n",
    "            images = images.to(device)\n",
    "            labels = labels.to(device)\n",
    "            modelOutput=model(images)\n",
    "            _, predicted = torch.max(modelOutput.data, 1)\n",
    "            total += labels.size(0)\n",
    "            correct += (predicted == labels).sum().item()\n",
    "\n",
    "        print('Accuracy of the network on the 10000 test images: {} %'.format(100 * correct / total))\n"
   ]
  },
  {
   "cell_type": "markdown",
   "metadata": {},
   "source": [
    "I have trained this model only on 5 Epochs, with raising the epochs increases both the accuracy of the model and time it takes to train the model. At higher epochs, like over 200, my model can get up to 90% accuracy. This still won't beat a pre-trained model that is fine tuned; however this project was for me to learn more about the development of machine learning models and I can take this experience with me for later projects."
   ]
  },
  {
   "cell_type": "code",
   "execution_count": 18,
   "metadata": {},
   "outputs": [
    {
     "name": "stdout",
     "output_type": "stream",
     "text": [
      "epoch:  0\n",
      "epoch:  1\n",
      "epoch:  2\n",
      "epoch:  3\n",
      "epoch:  4\n",
      "Accuracy of the network on the 10000 test images: 81.9 %\n"
     ]
    }
   ],
   "source": [
    "modelTrainer(trainloader,criterion,model,optimizer)\n",
    "modelTester(testloader,model)"
   ]
  }
 ],
 "metadata": {
  "kernelspec": {
   "display_name": "torchEnv",
   "language": "python",
   "name": "python3"
  },
  "language_info": {
   "codemirror_mode": {
    "name": "ipython",
    "version": 3
   },
   "file_extension": ".py",
   "mimetype": "text/x-python",
   "name": "python",
   "nbconvert_exporter": "python",
   "pygments_lexer": "ipython3",
   "version": "3.10.16"
  }
 },
 "nbformat": 4,
 "nbformat_minor": 2
}
